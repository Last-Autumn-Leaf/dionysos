{
 "cells": [
  {
   "cell_type": "code",
   "execution_count": 7,
   "metadata": {
    "id": "wgVtd270D6_T",
    "is_executing": true
   },
   "outputs": [],
   "source": [
    "from pathlib import Path\n",
    "from utils import *\n",
    "import pandas as pd\n",
    "from datetime import datetime, date\n",
    "import IPython"
   ]
  },
  {
   "cell_type": "code",
   "execution_count": 2,
   "metadata": {
    "colab": {
     "base_uri": "https://localhost:8080/"
    },
    "id": "RfcrPc-9EKQE",
    "outputId": "a2b172f4-e13a-4239-a61c-9a6dcab1a3af"
   },
   "outputs": [
    {
     "name": "stdout",
     "output_type": "stream",
     "text": [
      "reading ...\n",
      "\t vente_hours.csv\n",
      "\t affluence_generated.csv\n",
      "\t mma_schedule_day.csv\n",
      "\t meteo.csv\n",
      "\t vente_jours.csv\n",
      "\t nfl_schedule.csv\n",
      "\t vente_jours_labor.csv\n",
      "\t nhl_mtl_schedule_day.csv\n",
      "\t nba_schedule_day.csv\n",
      "\t nhl_schedule_day.csv\n"
     ]
    }
   ],
   "source": [
    "DFS=initialize()"
   ]
  },
  {
   "cell_type": "markdown",
   "metadata": {
    "id": "Z_myzr6KCweF"
   },
   "source": [
    "# visualize\n"
   ]
  },
  {
   "cell_type": "code",
   "execution_count": 16,
   "metadata": {
    "colab": {
     "base_uri": "https://localhost:8080/",
     "height": 1000
    },
    "id": "TXKuY8gJG7UU",
    "outputId": "cfa67a7e-af6f-483d-93f5-d608746a1576"
   },
   "outputs": [
    {
     "data": {
      "text/html": [
       "<style>\n",
       "    /* Apply custom styles to the output area */\n",
       "    .output_area {\n",
       "        overflow: visible !important;  /* Override default overflow property */\n",
       "        max-height: none !important;    /* Override default max-height property */\n",
       "    }\n",
       "</style>"
      ],
      "text/plain": [
       "<IPython.core.display.HTML object>"
      ]
     },
     "metadata": {},
     "output_type": "display_data"
    },
    {
     "data": {
      "text/html": [
       "\n",
       "<div style=\"text-align:center\">\n",
       "    <p style=\"font-size: 24px; font-weight: bold;\">affluence_generated</p>\n",
       "</div>\n"
      ],
      "text/plain": [
       "<IPython.core.display.HTML object>"
      ]
     },
     "metadata": {},
     "output_type": "display_data"
    },
    {
     "name": "stdout",
     "output_type": "stream",
     "text": [
      "Date from 2023-08-09 00:00:00 to 2016-06-17 00:00:00\n"
     ]
    },
    {
     "data": {
      "text/html": [
       "<style type=\"text/css\">\n",
       "#T_f9ee8_row0_col0, #T_f9ee8_row1_col0, #T_f9ee8_row2_col0, #T_f9ee8_row3_col0, #T_f9ee8_row4_col0 {\n",
       "  background-color: dodgerblue;\n",
       "}\n",
       "</style>\n",
       "<table id=\"T_f9ee8\">\n",
       "  <thead>\n",
       "    <tr>\n",
       "      <th class=\"blank level0\" >&nbsp;</th>\n",
       "      <th id=\"T_f9ee8_level0_col0\" class=\"col_heading level0 col0\" >date</th>\n",
       "      <th id=\"T_f9ee8_level0_col1\" class=\"col_heading level0 col1\" >attendance_concerts</th>\n",
       "      <th id=\"T_f9ee8_level0_col2\" class=\"col_heading level0 col2\" >attendance_conferences</th>\n",
       "      <th id=\"T_f9ee8_level0_col3\" class=\"col_heading level0 col3\" >attendance_expos</th>\n",
       "      <th id=\"T_f9ee8_level0_col4\" class=\"col_heading level0 col4\" >attendance_festivals</th>\n",
       "      <th id=\"T_f9ee8_level0_col5\" class=\"col_heading level0 col5\" >attendance_performing_arts</th>\n",
       "      <th id=\"T_f9ee8_level0_col6\" class=\"col_heading level0 col6\" >attendance_sports</th>\n",
       "      <th id=\"T_f9ee8_level0_col7\" class=\"col_heading level0 col7\" >total_attendance</th>\n",
       "      <th id=\"T_f9ee8_level0_col8\" class=\"col_heading level0 col8\" >month_day</th>\n",
       "    </tr>\n",
       "  </thead>\n",
       "  <tbody>\n",
       "    <tr>\n",
       "      <th id=\"T_f9ee8_level0_row0\" class=\"row_heading level0 row0\" >0</th>\n",
       "      <td id=\"T_f9ee8_row0_col0\" class=\"data row0 col0\" >2016-06-17 00:00:00</td>\n",
       "      <td id=\"T_f9ee8_row0_col1\" class=\"data row0 col1\" >3605</td>\n",
       "      <td id=\"T_f9ee8_row0_col2\" class=\"data row0 col2\" >0</td>\n",
       "      <td id=\"T_f9ee8_row0_col3\" class=\"data row0 col3\" >98</td>\n",
       "      <td id=\"T_f9ee8_row0_col4\" class=\"data row0 col4\" >40698</td>\n",
       "      <td id=\"T_f9ee8_row0_col5\" class=\"data row0 col5\" >0</td>\n",
       "      <td id=\"T_f9ee8_row0_col6\" class=\"data row0 col6\" >0</td>\n",
       "      <td id=\"T_f9ee8_row0_col7\" class=\"data row0 col7\" >44402</td>\n",
       "      <td id=\"T_f9ee8_row0_col8\" class=\"data row0 col8\" >06-17</td>\n",
       "    </tr>\n",
       "    <tr>\n",
       "      <th id=\"T_f9ee8_level0_row1\" class=\"row_heading level0 row1\" >1</th>\n",
       "      <td id=\"T_f9ee8_row1_col0\" class=\"data row1 col0\" >2016-06-18 00:00:00</td>\n",
       "      <td id=\"T_f9ee8_row1_col1\" class=\"data row1 col1\" >2620</td>\n",
       "      <td id=\"T_f9ee8_row1_col2\" class=\"data row1 col2\" >0</td>\n",
       "      <td id=\"T_f9ee8_row1_col3\" class=\"data row1 col3\" >86</td>\n",
       "      <td id=\"T_f9ee8_row1_col4\" class=\"data row1 col4\" >48836</td>\n",
       "      <td id=\"T_f9ee8_row1_col5\" class=\"data row1 col5\" >970</td>\n",
       "      <td id=\"T_f9ee8_row1_col6\" class=\"data row1 col6\" >0</td>\n",
       "      <td id=\"T_f9ee8_row1_col7\" class=\"data row1 col7\" >52514</td>\n",
       "      <td id=\"T_f9ee8_row1_col8\" class=\"data row1 col8\" >06-18</td>\n",
       "    </tr>\n",
       "    <tr>\n",
       "      <th id=\"T_f9ee8_level0_row2\" class=\"row_heading level0 row2\" >2</th>\n",
       "      <td id=\"T_f9ee8_row2_col0\" class=\"data row2 col0\" >2016-06-19 00:00:00</td>\n",
       "      <td id=\"T_f9ee8_row2_col1\" class=\"data row2 col1\" >688</td>\n",
       "      <td id=\"T_f9ee8_row2_col2\" class=\"data row2 col2\" >350</td>\n",
       "      <td id=\"T_f9ee8_row2_col3\" class=\"data row2 col3\" >84</td>\n",
       "      <td id=\"T_f9ee8_row2_col4\" class=\"data row2 col4\" >0</td>\n",
       "      <td id=\"T_f9ee8_row2_col5\" class=\"data row2 col5\" >1263</td>\n",
       "      <td id=\"T_f9ee8_row2_col6\" class=\"data row2 col6\" >0</td>\n",
       "      <td id=\"T_f9ee8_row2_col7\" class=\"data row2 col7\" >2387</td>\n",
       "      <td id=\"T_f9ee8_row2_col8\" class=\"data row2 col8\" >06-19</td>\n",
       "    </tr>\n",
       "    <tr>\n",
       "      <th id=\"T_f9ee8_level0_row3\" class=\"row_heading level0 row3\" >3</th>\n",
       "      <td id=\"T_f9ee8_row3_col0\" class=\"data row3 col0\" >2016-06-20 00:00:00</td>\n",
       "      <td id=\"T_f9ee8_row3_col1\" class=\"data row3 col1\" >1752</td>\n",
       "      <td id=\"T_f9ee8_row3_col2\" class=\"data row3 col2\" >350</td>\n",
       "      <td id=\"T_f9ee8_row3_col3\" class=\"data row3 col3\" >0</td>\n",
       "      <td id=\"T_f9ee8_row3_col4\" class=\"data row3 col4\" >0</td>\n",
       "      <td id=\"T_f9ee8_row3_col5\" class=\"data row3 col5\" >0</td>\n",
       "      <td id=\"T_f9ee8_row3_col6\" class=\"data row3 col6\" >0</td>\n",
       "      <td id=\"T_f9ee8_row3_col7\" class=\"data row3 col7\" >2102</td>\n",
       "      <td id=\"T_f9ee8_row3_col8\" class=\"data row3 col8\" >06-20</td>\n",
       "    </tr>\n",
       "    <tr>\n",
       "      <th id=\"T_f9ee8_level0_row4\" class=\"row_heading level0 row4\" >4</th>\n",
       "      <td id=\"T_f9ee8_row4_col0\" class=\"data row4 col0\" >2016-06-21 00:00:00</td>\n",
       "      <td id=\"T_f9ee8_row4_col1\" class=\"data row4 col1\" >1763</td>\n",
       "      <td id=\"T_f9ee8_row4_col2\" class=\"data row4 col2\" >350</td>\n",
       "      <td id=\"T_f9ee8_row4_col3\" class=\"data row4 col3\" >230</td>\n",
       "      <td id=\"T_f9ee8_row4_col4\" class=\"data row4 col4\" >0</td>\n",
       "      <td id=\"T_f9ee8_row4_col5\" class=\"data row4 col5\" >0</td>\n",
       "      <td id=\"T_f9ee8_row4_col6\" class=\"data row4 col6\" >0</td>\n",
       "      <td id=\"T_f9ee8_row4_col7\" class=\"data row4 col7\" >2343</td>\n",
       "      <td id=\"T_f9ee8_row4_col8\" class=\"data row4 col8\" >06-21</td>\n",
       "    </tr>\n",
       "  </tbody>\n",
       "</table>\n"
      ],
      "text/plain": [
       "<pandas.io.formats.style.Styler at 0x7fa262af2f40>"
      ]
     },
     "metadata": {},
     "output_type": "display_data"
    },
    {
     "name": "stdout",
     "output_type": "stream",
     "text": [
      "\n"
     ]
    },
    {
     "data": {
      "text/html": [
       "\n",
       "<div style=\"text-align:center\">\n",
       "    <p style=\"font-size: 24px; font-weight: bold;\">vente_jours_labor</p>\n",
       "</div>\n"
      ],
      "text/plain": [
       "<IPython.core.display.HTML object>"
      ]
     },
     "metadata": {},
     "output_type": "display_data"
    },
    {
     "name": "stdout",
     "output_type": "stream",
     "text": [
      "Date from 2023-08-01 00:00:00 to 2020-05-07 00:00:00\n"
     ]
    },
    {
     "data": {
      "text/html": [
       "<style type=\"text/css\">\n",
       "#T_74361_row0_col0, #T_74361_row1_col0, #T_74361_row2_col0, #T_74361_row3_col0, #T_74361_row4_col0 {\n",
       "  background-color: dodgerblue;\n",
       "}\n",
       "</style>\n",
       "<table id=\"T_74361\">\n",
       "  <thead>\n",
       "    <tr>\n",
       "      <th class=\"blank level0\" >&nbsp;</th>\n",
       "      <th id=\"T_74361_level0_col0\" class=\"col_heading level0 col0\" >date</th>\n",
       "      <th id=\"T_74361_level0_col1\" class=\"col_heading level0 col1\" >vente</th>\n",
       "      <th id=\"T_74361_level0_col2\" class=\"col_heading level0 col2\" >tache</th>\n",
       "      <th id=\"T_74361_level0_col3\" class=\"col_heading level0 col3\" >salaire_day</th>\n",
       "      <th id=\"T_74361_level0_col4\" class=\"col_heading level0 col4\" >jour_semaine</th>\n",
       "      <th id=\"T_74361_level0_col5\" class=\"col_heading level0 col5\" >saison</th>\n",
       "      <th id=\"T_74361_level0_col6\" class=\"col_heading level0 col6\" >ratio_salaire_vente</th>\n",
       "    </tr>\n",
       "  </thead>\n",
       "  <tbody>\n",
       "    <tr>\n",
       "      <th id=\"T_74361_level0_row0\" class=\"row_heading level0 row0\" >0</th>\n",
       "      <td id=\"T_74361_row0_col0\" class=\"data row0 col0\" >2023-08-01 00:00:00</td>\n",
       "      <td id=\"T_74361_row0_col1\" class=\"data row0 col1\" >17036.750000</td>\n",
       "      <td id=\"T_74361_row0_col2\" class=\"data row0 col2\" >AIDE-SERV.</td>\n",
       "      <td id=\"T_74361_row0_col3\" class=\"data row0 col3\" >1374.525833</td>\n",
       "      <td id=\"T_74361_row0_col4\" class=\"data row0 col4\" >1</td>\n",
       "      <td id=\"T_74361_row0_col5\" class=\"data row0 col5\" >8</td>\n",
       "      <td id=\"T_74361_row0_col6\" class=\"data row0 col6\" >8.070000</td>\n",
       "    </tr>\n",
       "    <tr>\n",
       "      <th id=\"T_74361_level0_row1\" class=\"row_heading level0 row1\" >1</th>\n",
       "      <td id=\"T_74361_row1_col0\" class=\"data row1 col0\" >2023-08-01 00:00:00</td>\n",
       "      <td id=\"T_74361_row1_col1\" class=\"data row1 col1\" >17036.750000</td>\n",
       "      <td id=\"T_74361_row1_col2\" class=\"data row1 col2\" >CUISINE</td>\n",
       "      <td id=\"T_74361_row1_col3\" class=\"data row1 col3\" >1740.183333</td>\n",
       "      <td id=\"T_74361_row1_col4\" class=\"data row1 col4\" >1</td>\n",
       "      <td id=\"T_74361_row1_col5\" class=\"data row1 col5\" >8</td>\n",
       "      <td id=\"T_74361_row1_col6\" class=\"data row1 col6\" >10.210000</td>\n",
       "    </tr>\n",
       "    <tr>\n",
       "      <th id=\"T_74361_level0_row2\" class=\"row_heading level0 row2\" >2</th>\n",
       "      <td id=\"T_74361_row2_col0\" class=\"data row2 col0\" >2023-08-01 00:00:00</td>\n",
       "      <td id=\"T_74361_row2_col1\" class=\"data row2 col1\" >17036.750000</td>\n",
       "      <td id=\"T_74361_row2_col2\" class=\"data row2 col2\" >SERVICE</td>\n",
       "      <td id=\"T_74361_row2_col3\" class=\"data row2 col3\" >970.713333</td>\n",
       "      <td id=\"T_74361_row2_col4\" class=\"data row2 col4\" >1</td>\n",
       "      <td id=\"T_74361_row2_col5\" class=\"data row2 col5\" >8</td>\n",
       "      <td id=\"T_74361_row2_col6\" class=\"data row2 col6\" >5.700000</td>\n",
       "    </tr>\n",
       "    <tr>\n",
       "      <th id=\"T_74361_level0_row3\" class=\"row_heading level0 row3\" >3</th>\n",
       "      <td id=\"T_74361_row3_col0\" class=\"data row3 col0\" >2023-07-31 00:00:00</td>\n",
       "      <td id=\"T_74361_row3_col1\" class=\"data row3 col1\" >12878.160000</td>\n",
       "      <td id=\"T_74361_row3_col2\" class=\"data row3 col2\" >AIDE-SERV.</td>\n",
       "      <td id=\"T_74361_row3_col3\" class=\"data row3 col3\" >1070.403333</td>\n",
       "      <td id=\"T_74361_row3_col4\" class=\"data row3 col4\" >0</td>\n",
       "      <td id=\"T_74361_row3_col5\" class=\"data row3 col5\" >7</td>\n",
       "      <td id=\"T_74361_row3_col6\" class=\"data row3 col6\" >8.310000</td>\n",
       "    </tr>\n",
       "    <tr>\n",
       "      <th id=\"T_74361_level0_row4\" class=\"row_heading level0 row4\" >4</th>\n",
       "      <td id=\"T_74361_row4_col0\" class=\"data row4 col0\" >2023-07-31 00:00:00</td>\n",
       "      <td id=\"T_74361_row4_col1\" class=\"data row4 col1\" >12878.160000</td>\n",
       "      <td id=\"T_74361_row4_col2\" class=\"data row4 col2\" >CUISINE</td>\n",
       "      <td id=\"T_74361_row4_col3\" class=\"data row4 col3\" >1751.094167</td>\n",
       "      <td id=\"T_74361_row4_col4\" class=\"data row4 col4\" >0</td>\n",
       "      <td id=\"T_74361_row4_col5\" class=\"data row4 col5\" >7</td>\n",
       "      <td id=\"T_74361_row4_col6\" class=\"data row4 col6\" >13.600000</td>\n",
       "    </tr>\n",
       "  </tbody>\n",
       "</table>\n"
      ],
      "text/plain": [
       "<pandas.io.formats.style.Styler at 0x7fa262a971f0>"
      ]
     },
     "metadata": {},
     "output_type": "display_data"
    },
    {
     "name": "stdout",
     "output_type": "stream",
     "text": [
      "\n"
     ]
    },
    {
     "data": {
      "text/html": [
       "\n",
       "<div style=\"text-align:center\">\n",
       "    <p style=\"font-size: 24px; font-weight: bold;\">nfl_schedule</p>\n",
       "</div>\n"
      ],
      "text/plain": [
       "<IPython.core.display.HTML object>"
      ]
     },
     "metadata": {},
     "output_type": "display_data"
    },
    {
     "name": "stdout",
     "output_type": "stream",
     "text": [
      "Date from 2024-04-30 00:00:00 to 2016-01-01 00:00:00\n"
     ]
    },
    {
     "data": {
      "text/html": [
       "<style type=\"text/css\">\n",
       "#T_b9e5a_row0_col0, #T_b9e5a_row1_col0, #T_b9e5a_row2_col0, #T_b9e5a_row3_col0, #T_b9e5a_row4_col0 {\n",
       "  background-color: dodgerblue;\n",
       "}\n",
       "</style>\n",
       "<table id=\"T_b9e5a\">\n",
       "  <thead>\n",
       "    <tr>\n",
       "      <th class=\"blank level0\" >&nbsp;</th>\n",
       "      <th id=\"T_b9e5a_level0_col0\" class=\"col_heading level0 col0\" >date</th>\n",
       "      <th id=\"T_b9e5a_level0_col1\" class=\"col_heading level0 col1\" >Match</th>\n",
       "    </tr>\n",
       "  </thead>\n",
       "  <tbody>\n",
       "    <tr>\n",
       "      <th id=\"T_b9e5a_level0_row0\" class=\"row_heading level0 row0\" >0</th>\n",
       "      <td id=\"T_b9e5a_row0_col0\" class=\"data row0 col0\" >2016-01-01 00:00:00</td>\n",
       "      <td id=\"T_b9e5a_row0_col1\" class=\"data row0 col1\" >0</td>\n",
       "    </tr>\n",
       "    <tr>\n",
       "      <th id=\"T_b9e5a_level0_row1\" class=\"row_heading level0 row1\" >1</th>\n",
       "      <td id=\"T_b9e5a_row1_col0\" class=\"data row1 col0\" >2016-01-02 00:00:00</td>\n",
       "      <td id=\"T_b9e5a_row1_col1\" class=\"data row1 col1\" >0</td>\n",
       "    </tr>\n",
       "    <tr>\n",
       "      <th id=\"T_b9e5a_level0_row2\" class=\"row_heading level0 row2\" >2</th>\n",
       "      <td id=\"T_b9e5a_row2_col0\" class=\"data row2 col0\" >2016-01-03 00:00:00</td>\n",
       "      <td id=\"T_b9e5a_row2_col1\" class=\"data row2 col1\" >0</td>\n",
       "    </tr>\n",
       "    <tr>\n",
       "      <th id=\"T_b9e5a_level0_row3\" class=\"row_heading level0 row3\" >3</th>\n",
       "      <td id=\"T_b9e5a_row3_col0\" class=\"data row3 col0\" >2016-01-04 00:00:00</td>\n",
       "      <td id=\"T_b9e5a_row3_col1\" class=\"data row3 col1\" >0</td>\n",
       "    </tr>\n",
       "    <tr>\n",
       "      <th id=\"T_b9e5a_level0_row4\" class=\"row_heading level0 row4\" >4</th>\n",
       "      <td id=\"T_b9e5a_row4_col0\" class=\"data row4 col0\" >2016-01-05 00:00:00</td>\n",
       "      <td id=\"T_b9e5a_row4_col1\" class=\"data row4 col1\" >0</td>\n",
       "    </tr>\n",
       "  </tbody>\n",
       "</table>\n"
      ],
      "text/plain": [
       "<pandas.io.formats.style.Styler at 0x7fa262a971f0>"
      ]
     },
     "metadata": {},
     "output_type": "display_data"
    },
    {
     "name": "stdout",
     "output_type": "stream",
     "text": [
      "\n"
     ]
    },
    {
     "data": {
      "text/html": [
       "\n",
       "<div style=\"text-align:center\">\n",
       "    <p style=\"font-size: 24px; font-weight: bold;\">vente_hours</p>\n",
       "</div>\n"
      ],
      "text/plain": [
       "<IPython.core.display.HTML object>"
      ]
     },
     "metadata": {},
     "output_type": "display_data"
    },
    {
     "name": "stdout",
     "output_type": "stream",
     "text": [
      "Date from 2023-08-05 23:30:00 to 2016-10-09 00:00:00\n"
     ]
    },
    {
     "data": {
      "text/html": [
       "<style type=\"text/css\">\n",
       "#T_04110_row0_col1, #T_04110_row1_col1, #T_04110_row2_col1, #T_04110_row3_col1, #T_04110_row4_col1 {\n",
       "  background-color: dodgerblue;\n",
       "}\n",
       "</style>\n",
       "<table id=\"T_04110\">\n",
       "  <thead>\n",
       "    <tr>\n",
       "      <th class=\"blank level0\" >&nbsp;</th>\n",
       "      <th id=\"T_04110_level0_col0\" class=\"col_heading level0 col0\" >sources</th>\n",
       "      <th id=\"T_04110_level0_col1\" class=\"col_heading level0 col1\" >date</th>\n",
       "      <th id=\"T_04110_level0_col2\" class=\"col_heading level0 col2\" >periode</th>\n",
       "      <th id=\"T_04110_level0_col3\" class=\"col_heading level0 col3\" >day</th>\n",
       "      <th id=\"T_04110_level0_col4\" class=\"col_heading level0 col4\" >vente</th>\n",
       "    </tr>\n",
       "  </thead>\n",
       "  <tbody>\n",
       "    <tr>\n",
       "      <th id=\"T_04110_level0_row0\" class=\"row_heading level0 row0\" >0</th>\n",
       "      <td id=\"T_04110_row0_col0\" class=\"data row0 col0\" >MENU CAGE</td>\n",
       "      <td id=\"T_04110_row0_col1\" class=\"data row0 col1\" >2016-10-09 00:00:00</td>\n",
       "      <td id=\"T_04110_row0_col2\" class=\"data row0 col2\" >Soirée</td>\n",
       "      <td id=\"T_04110_row0_col3\" class=\"data row0 col3\" >Dim</td>\n",
       "      <td id=\"T_04110_row0_col4\" class=\"data row0 col4\" >0.000000</td>\n",
       "    </tr>\n",
       "    <tr>\n",
       "      <th id=\"T_04110_level0_row1\" class=\"row_heading level0 row1\" >1</th>\n",
       "      <td id=\"T_04110_row1_col0\" class=\"data row1 col0\" >MENU CAGE</td>\n",
       "      <td id=\"T_04110_row1_col1\" class=\"data row1 col1\" >2016-10-09 00:30:00</td>\n",
       "      <td id=\"T_04110_row1_col2\" class=\"data row1 col2\" >Soirée</td>\n",
       "      <td id=\"T_04110_row1_col3\" class=\"data row1 col3\" >Dim</td>\n",
       "      <td id=\"T_04110_row1_col4\" class=\"data row1 col4\" >0.000000</td>\n",
       "    </tr>\n",
       "    <tr>\n",
       "      <th id=\"T_04110_level0_row2\" class=\"row_heading level0 row2\" >2</th>\n",
       "      <td id=\"T_04110_row2_col0\" class=\"data row2 col0\" >MENU CAGE</td>\n",
       "      <td id=\"T_04110_row2_col1\" class=\"data row2 col1\" >2016-10-09 01:00:00</td>\n",
       "      <td id=\"T_04110_row2_col2\" class=\"data row2 col2\" >Soirée</td>\n",
       "      <td id=\"T_04110_row2_col3\" class=\"data row2 col3\" >Dim</td>\n",
       "      <td id=\"T_04110_row2_col4\" class=\"data row2 col4\" >0.000000</td>\n",
       "    </tr>\n",
       "    <tr>\n",
       "      <th id=\"T_04110_level0_row3\" class=\"row_heading level0 row3\" >3</th>\n",
       "      <td id=\"T_04110_row3_col0\" class=\"data row3 col0\" >MENU CAGE</td>\n",
       "      <td id=\"T_04110_row3_col1\" class=\"data row3 col1\" >2016-10-09 01:30:00</td>\n",
       "      <td id=\"T_04110_row3_col2\" class=\"data row3 col2\" >Soirée</td>\n",
       "      <td id=\"T_04110_row3_col3\" class=\"data row3 col3\" >Dim</td>\n",
       "      <td id=\"T_04110_row3_col4\" class=\"data row3 col4\" >0.000000</td>\n",
       "    </tr>\n",
       "    <tr>\n",
       "      <th id=\"T_04110_level0_row4\" class=\"row_heading level0 row4\" >4</th>\n",
       "      <td id=\"T_04110_row4_col0\" class=\"data row4 col0\" >MENU CAGE</td>\n",
       "      <td id=\"T_04110_row4_col1\" class=\"data row4 col1\" >2016-10-09 02:00:00</td>\n",
       "      <td id=\"T_04110_row4_col2\" class=\"data row4 col2\" >Soirée</td>\n",
       "      <td id=\"T_04110_row4_col3\" class=\"data row4 col3\" >Dim</td>\n",
       "      <td id=\"T_04110_row4_col4\" class=\"data row4 col4\" >0.000000</td>\n",
       "    </tr>\n",
       "  </tbody>\n",
       "</table>\n"
      ],
      "text/plain": [
       "<pandas.io.formats.style.Styler at 0x7fa261ecc100>"
      ]
     },
     "metadata": {},
     "output_type": "display_data"
    },
    {
     "name": "stdout",
     "output_type": "stream",
     "text": [
      "\n"
     ]
    },
    {
     "data": {
      "text/html": [
       "\n",
       "<div style=\"text-align:center\">\n",
       "    <p style=\"font-size: 24px; font-weight: bold;\">nhl_mtl_schedule_day</p>\n",
       "</div>\n"
      ],
      "text/plain": [
       "<IPython.core.display.HTML object>"
      ]
     },
     "metadata": {},
     "output_type": "display_data"
    },
    {
     "name": "stdout",
     "output_type": "stream",
     "text": [
      "Date from 2024-04-30 00:00:00 to 2016-01-01 00:00:00\n"
     ]
    },
    {
     "data": {
      "text/html": [
       "<style type=\"text/css\">\n",
       "#T_31ddf_row0_col0, #T_31ddf_row1_col0, #T_31ddf_row2_col0, #T_31ddf_row3_col0, #T_31ddf_row4_col0 {\n",
       "  background-color: dodgerblue;\n",
       "}\n",
       "</style>\n",
       "<table id=\"T_31ddf\">\n",
       "  <thead>\n",
       "    <tr>\n",
       "      <th class=\"blank level0\" >&nbsp;</th>\n",
       "      <th id=\"T_31ddf_level0_col0\" class=\"col_heading level0 col0\" >date</th>\n",
       "      <th id=\"T_31ddf_level0_col1\" class=\"col_heading level0 col1\" >Match</th>\n",
       "    </tr>\n",
       "  </thead>\n",
       "  <tbody>\n",
       "    <tr>\n",
       "      <th id=\"T_31ddf_level0_row0\" class=\"row_heading level0 row0\" >0</th>\n",
       "      <td id=\"T_31ddf_row0_col0\" class=\"data row0 col0\" >2016-01-01 00:00:00</td>\n",
       "      <td id=\"T_31ddf_row0_col1\" class=\"data row0 col1\" >0</td>\n",
       "    </tr>\n",
       "    <tr>\n",
       "      <th id=\"T_31ddf_level0_row1\" class=\"row_heading level0 row1\" >1</th>\n",
       "      <td id=\"T_31ddf_row1_col0\" class=\"data row1 col0\" >2016-01-02 00:00:00</td>\n",
       "      <td id=\"T_31ddf_row1_col1\" class=\"data row1 col1\" >0</td>\n",
       "    </tr>\n",
       "    <tr>\n",
       "      <th id=\"T_31ddf_level0_row2\" class=\"row_heading level0 row2\" >2</th>\n",
       "      <td id=\"T_31ddf_row2_col0\" class=\"data row2 col0\" >2016-01-03 00:00:00</td>\n",
       "      <td id=\"T_31ddf_row2_col1\" class=\"data row2 col1\" >0</td>\n",
       "    </tr>\n",
       "    <tr>\n",
       "      <th id=\"T_31ddf_level0_row3\" class=\"row_heading level0 row3\" >3</th>\n",
       "      <td id=\"T_31ddf_row3_col0\" class=\"data row3 col0\" >2016-01-04 00:00:00</td>\n",
       "      <td id=\"T_31ddf_row3_col1\" class=\"data row3 col1\" >0</td>\n",
       "    </tr>\n",
       "    <tr>\n",
       "      <th id=\"T_31ddf_level0_row4\" class=\"row_heading level0 row4\" >4</th>\n",
       "      <td id=\"T_31ddf_row4_col0\" class=\"data row4 col0\" >2016-01-05 00:00:00</td>\n",
       "      <td id=\"T_31ddf_row4_col1\" class=\"data row4 col1\" >0</td>\n",
       "    </tr>\n",
       "  </tbody>\n",
       "</table>\n"
      ],
      "text/plain": [
       "<pandas.io.formats.style.Styler at 0x7fa262aad490>"
      ]
     },
     "metadata": {},
     "output_type": "display_data"
    },
    {
     "name": "stdout",
     "output_type": "stream",
     "text": [
      "\n"
     ]
    },
    {
     "data": {
      "text/html": [
       "\n",
       "<div style=\"text-align:center\">\n",
       "    <p style=\"font-size: 24px; font-weight: bold;\">nhl_schedule_day</p>\n",
       "</div>\n"
      ],
      "text/plain": [
       "<IPython.core.display.HTML object>"
      ]
     },
     "metadata": {},
     "output_type": "display_data"
    },
    {
     "name": "stdout",
     "output_type": "stream",
     "text": [
      "Date from 2024-04-30 00:00:00 to 2016-01-01 00:00:00\n"
     ]
    },
    {
     "data": {
      "text/html": [
       "<style type=\"text/css\">\n",
       "#T_0c062_row0_col0, #T_0c062_row1_col0, #T_0c062_row2_col0, #T_0c062_row3_col0, #T_0c062_row4_col0 {\n",
       "  background-color: dodgerblue;\n",
       "}\n",
       "</style>\n",
       "<table id=\"T_0c062\">\n",
       "  <thead>\n",
       "    <tr>\n",
       "      <th class=\"blank level0\" >&nbsp;</th>\n",
       "      <th id=\"T_0c062_level0_col0\" class=\"col_heading level0 col0\" >date</th>\n",
       "      <th id=\"T_0c062_level0_col1\" class=\"col_heading level0 col1\" >Match</th>\n",
       "    </tr>\n",
       "  </thead>\n",
       "  <tbody>\n",
       "    <tr>\n",
       "      <th id=\"T_0c062_level0_row0\" class=\"row_heading level0 row0\" >0</th>\n",
       "      <td id=\"T_0c062_row0_col0\" class=\"data row0 col0\" >2016-01-01 00:00:00</td>\n",
       "      <td id=\"T_0c062_row0_col1\" class=\"data row0 col1\" >0</td>\n",
       "    </tr>\n",
       "    <tr>\n",
       "      <th id=\"T_0c062_level0_row1\" class=\"row_heading level0 row1\" >1</th>\n",
       "      <td id=\"T_0c062_row1_col0\" class=\"data row1 col0\" >2016-01-02 00:00:00</td>\n",
       "      <td id=\"T_0c062_row1_col1\" class=\"data row1 col1\" >0</td>\n",
       "    </tr>\n",
       "    <tr>\n",
       "      <th id=\"T_0c062_level0_row2\" class=\"row_heading level0 row2\" >2</th>\n",
       "      <td id=\"T_0c062_row2_col0\" class=\"data row2 col0\" >2016-01-03 00:00:00</td>\n",
       "      <td id=\"T_0c062_row2_col1\" class=\"data row2 col1\" >0</td>\n",
       "    </tr>\n",
       "    <tr>\n",
       "      <th id=\"T_0c062_level0_row3\" class=\"row_heading level0 row3\" >3</th>\n",
       "      <td id=\"T_0c062_row3_col0\" class=\"data row3 col0\" >2016-01-04 00:00:00</td>\n",
       "      <td id=\"T_0c062_row3_col1\" class=\"data row3 col1\" >0</td>\n",
       "    </tr>\n",
       "    <tr>\n",
       "      <th id=\"T_0c062_level0_row4\" class=\"row_heading level0 row4\" >4</th>\n",
       "      <td id=\"T_0c062_row4_col0\" class=\"data row4 col0\" >2016-01-05 00:00:00</td>\n",
       "      <td id=\"T_0c062_row4_col1\" class=\"data row4 col1\" >0</td>\n",
       "    </tr>\n",
       "  </tbody>\n",
       "</table>\n"
      ],
      "text/plain": [
       "<pandas.io.formats.style.Styler at 0x7fa262a6f730>"
      ]
     },
     "metadata": {},
     "output_type": "display_data"
    },
    {
     "name": "stdout",
     "output_type": "stream",
     "text": [
      "\n"
     ]
    },
    {
     "data": {
      "text/html": [
       "\n",
       "<div style=\"text-align:center\">\n",
       "    <p style=\"font-size: 24px; font-weight: bold;\">nba_schedule_day</p>\n",
       "</div>\n"
      ],
      "text/plain": [
       "<IPython.core.display.HTML object>"
      ]
     },
     "metadata": {},
     "output_type": "display_data"
    },
    {
     "name": "stdout",
     "output_type": "stream",
     "text": [
      "Date from 2024-04-30 00:00:00 to 2016-01-01 00:00:00\n"
     ]
    },
    {
     "data": {
      "text/html": [
       "<style type=\"text/css\">\n",
       "#T_8130b_row0_col0, #T_8130b_row1_col0, #T_8130b_row2_col0, #T_8130b_row3_col0, #T_8130b_row4_col0 {\n",
       "  background-color: dodgerblue;\n",
       "}\n",
       "</style>\n",
       "<table id=\"T_8130b\">\n",
       "  <thead>\n",
       "    <tr>\n",
       "      <th class=\"blank level0\" >&nbsp;</th>\n",
       "      <th id=\"T_8130b_level0_col0\" class=\"col_heading level0 col0\" >date</th>\n",
       "      <th id=\"T_8130b_level0_col1\" class=\"col_heading level0 col1\" >Match</th>\n",
       "    </tr>\n",
       "  </thead>\n",
       "  <tbody>\n",
       "    <tr>\n",
       "      <th id=\"T_8130b_level0_row0\" class=\"row_heading level0 row0\" >0</th>\n",
       "      <td id=\"T_8130b_row0_col0\" class=\"data row0 col0\" >2016-01-01 00:00:00</td>\n",
       "      <td id=\"T_8130b_row0_col1\" class=\"data row0 col1\" >0</td>\n",
       "    </tr>\n",
       "    <tr>\n",
       "      <th id=\"T_8130b_level0_row1\" class=\"row_heading level0 row1\" >1</th>\n",
       "      <td id=\"T_8130b_row1_col0\" class=\"data row1 col0\" >2016-01-02 00:00:00</td>\n",
       "      <td id=\"T_8130b_row1_col1\" class=\"data row1 col1\" >0</td>\n",
       "    </tr>\n",
       "    <tr>\n",
       "      <th id=\"T_8130b_level0_row2\" class=\"row_heading level0 row2\" >2</th>\n",
       "      <td id=\"T_8130b_row2_col0\" class=\"data row2 col0\" >2016-01-03 00:00:00</td>\n",
       "      <td id=\"T_8130b_row2_col1\" class=\"data row2 col1\" >0</td>\n",
       "    </tr>\n",
       "    <tr>\n",
       "      <th id=\"T_8130b_level0_row3\" class=\"row_heading level0 row3\" >3</th>\n",
       "      <td id=\"T_8130b_row3_col0\" class=\"data row3 col0\" >2016-01-04 00:00:00</td>\n",
       "      <td id=\"T_8130b_row3_col1\" class=\"data row3 col1\" >0</td>\n",
       "    </tr>\n",
       "    <tr>\n",
       "      <th id=\"T_8130b_level0_row4\" class=\"row_heading level0 row4\" >4</th>\n",
       "      <td id=\"T_8130b_row4_col0\" class=\"data row4 col0\" >2016-01-05 00:00:00</td>\n",
       "      <td id=\"T_8130b_row4_col1\" class=\"data row4 col1\" >0</td>\n",
       "    </tr>\n",
       "  </tbody>\n",
       "</table>\n"
      ],
      "text/plain": [
       "<pandas.io.formats.style.Styler at 0x7fa262b040d0>"
      ]
     },
     "metadata": {},
     "output_type": "display_data"
    },
    {
     "name": "stdout",
     "output_type": "stream",
     "text": [
      "\n"
     ]
    },
    {
     "data": {
      "text/html": [
       "\n",
       "<div style=\"text-align:center\">\n",
       "    <p style=\"font-size: 24px; font-weight: bold;\">vente_jours</p>\n",
       "</div>\n"
      ],
      "text/plain": [
       "<IPython.core.display.HTML object>"
      ]
     },
     "metadata": {},
     "output_type": "display_data"
    },
    {
     "name": "stdout",
     "output_type": "stream",
     "text": [
      "Date from 2023-08-01 00:00:00 to 2016-10-09 00:00:00\n"
     ]
    },
    {
     "data": {
      "text/html": [
       "<style type=\"text/css\">\n",
       "#T_73fea_row0_col0, #T_73fea_row1_col0, #T_73fea_row2_col0, #T_73fea_row3_col0, #T_73fea_row4_col0 {\n",
       "  background-color: dodgerblue;\n",
       "}\n",
       "</style>\n",
       "<table id=\"T_73fea\">\n",
       "  <thead>\n",
       "    <tr>\n",
       "      <th class=\"blank level0\" >&nbsp;</th>\n",
       "      <th id=\"T_73fea_level0_col0\" class=\"col_heading level0 col0\" >date</th>\n",
       "      <th id=\"T_73fea_level0_col1\" class=\"col_heading level0 col1\" >vente</th>\n",
       "    </tr>\n",
       "  </thead>\n",
       "  <tbody>\n",
       "    <tr>\n",
       "      <th id=\"T_73fea_level0_row0\" class=\"row_heading level0 row0\" >0</th>\n",
       "      <td id=\"T_73fea_row0_col0\" class=\"data row0 col0\" >2023-08-01 00:00:00</td>\n",
       "      <td id=\"T_73fea_row0_col1\" class=\"data row0 col1\" >17036.750000</td>\n",
       "    </tr>\n",
       "    <tr>\n",
       "      <th id=\"T_73fea_level0_row1\" class=\"row_heading level0 row1\" >1</th>\n",
       "      <td id=\"T_73fea_row1_col0\" class=\"data row1 col0\" >2023-07-31 00:00:00</td>\n",
       "      <td id=\"T_73fea_row1_col1\" class=\"data row1 col1\" >12878.160000</td>\n",
       "    </tr>\n",
       "    <tr>\n",
       "      <th id=\"T_73fea_level0_row2\" class=\"row_heading level0 row2\" >2</th>\n",
       "      <td id=\"T_73fea_row2_col0\" class=\"data row2 col0\" >2023-07-30 00:00:00</td>\n",
       "      <td id=\"T_73fea_row2_col1\" class=\"data row2 col1\" >21749.920000</td>\n",
       "    </tr>\n",
       "    <tr>\n",
       "      <th id=\"T_73fea_level0_row3\" class=\"row_heading level0 row3\" >3</th>\n",
       "      <td id=\"T_73fea_row3_col0\" class=\"data row3 col0\" >2023-07-29 00:00:00</td>\n",
       "      <td id=\"T_73fea_row3_col1\" class=\"data row3 col1\" >40659.010000</td>\n",
       "    </tr>\n",
       "    <tr>\n",
       "      <th id=\"T_73fea_level0_row4\" class=\"row_heading level0 row4\" >4</th>\n",
       "      <td id=\"T_73fea_row4_col0\" class=\"data row4 col0\" >2023-07-28 00:00:00</td>\n",
       "      <td id=\"T_73fea_row4_col1\" class=\"data row4 col1\" >30934.980000</td>\n",
       "    </tr>\n",
       "  </tbody>\n",
       "</table>\n"
      ],
      "text/plain": [
       "<pandas.io.formats.style.Styler at 0x7fa262acab80>"
      ]
     },
     "metadata": {},
     "output_type": "display_data"
    },
    {
     "name": "stdout",
     "output_type": "stream",
     "text": [
      "\n"
     ]
    },
    {
     "data": {
      "text/html": [
       "\n",
       "<div style=\"text-align:center\">\n",
       "    <p style=\"font-size: 24px; font-weight: bold;\">mma_schedule_day</p>\n",
       "</div>\n"
      ],
      "text/plain": [
       "<IPython.core.display.HTML object>"
      ]
     },
     "metadata": {},
     "output_type": "display_data"
    },
    {
     "name": "stdout",
     "output_type": "stream",
     "text": [
      "Date from 2024-04-30 00:00:00 to 2016-01-01 00:00:00\n"
     ]
    },
    {
     "data": {
      "text/html": [
       "<style type=\"text/css\">\n",
       "#T_b0099_row0_col0, #T_b0099_row1_col0, #T_b0099_row2_col0, #T_b0099_row3_col0, #T_b0099_row4_col0 {\n",
       "  background-color: dodgerblue;\n",
       "}\n",
       "</style>\n",
       "<table id=\"T_b0099\">\n",
       "  <thead>\n",
       "    <tr>\n",
       "      <th class=\"blank level0\" >&nbsp;</th>\n",
       "      <th id=\"T_b0099_level0_col0\" class=\"col_heading level0 col0\" >date</th>\n",
       "      <th id=\"T_b0099_level0_col1\" class=\"col_heading level0 col1\" >Match</th>\n",
       "    </tr>\n",
       "  </thead>\n",
       "  <tbody>\n",
       "    <tr>\n",
       "      <th id=\"T_b0099_level0_row0\" class=\"row_heading level0 row0\" >0</th>\n",
       "      <td id=\"T_b0099_row0_col0\" class=\"data row0 col0\" >2016-01-01 00:00:00</td>\n",
       "      <td id=\"T_b0099_row0_col1\" class=\"data row0 col1\" >0</td>\n",
       "    </tr>\n",
       "    <tr>\n",
       "      <th id=\"T_b0099_level0_row1\" class=\"row_heading level0 row1\" >1</th>\n",
       "      <td id=\"T_b0099_row1_col0\" class=\"data row1 col0\" >2016-01-02 00:00:00</td>\n",
       "      <td id=\"T_b0099_row1_col1\" class=\"data row1 col1\" >0</td>\n",
       "    </tr>\n",
       "    <tr>\n",
       "      <th id=\"T_b0099_level0_row2\" class=\"row_heading level0 row2\" >2</th>\n",
       "      <td id=\"T_b0099_row2_col0\" class=\"data row2 col0\" >2016-01-03 00:00:00</td>\n",
       "      <td id=\"T_b0099_row2_col1\" class=\"data row2 col1\" >0</td>\n",
       "    </tr>\n",
       "    <tr>\n",
       "      <th id=\"T_b0099_level0_row3\" class=\"row_heading level0 row3\" >3</th>\n",
       "      <td id=\"T_b0099_row3_col0\" class=\"data row3 col0\" >2016-01-04 00:00:00</td>\n",
       "      <td id=\"T_b0099_row3_col1\" class=\"data row3 col1\" >0</td>\n",
       "    </tr>\n",
       "    <tr>\n",
       "      <th id=\"T_b0099_level0_row4\" class=\"row_heading level0 row4\" >4</th>\n",
       "      <td id=\"T_b0099_row4_col0\" class=\"data row4 col0\" >2016-01-05 00:00:00</td>\n",
       "      <td id=\"T_b0099_row4_col1\" class=\"data row4 col1\" >0</td>\n",
       "    </tr>\n",
       "  </tbody>\n",
       "</table>\n"
      ],
      "text/plain": [
       "<pandas.io.formats.style.Styler at 0x7fa262aca460>"
      ]
     },
     "metadata": {},
     "output_type": "display_data"
    },
    {
     "name": "stdout",
     "output_type": "stream",
     "text": [
      "\n"
     ]
    },
    {
     "data": {
      "text/html": [
       "\n",
       "<div style=\"text-align:center\">\n",
       "    <p style=\"font-size: 24px; font-weight: bold;\">meteo</p>\n",
       "</div>\n"
      ],
      "text/plain": [
       "<IPython.core.display.HTML object>"
      ]
     },
     "metadata": {},
     "output_type": "display_data"
    },
    {
     "name": "stdout",
     "output_type": "stream",
     "text": [
      "Date from 2023-08-22 23:00:00 to 2016-01-01 00:00:00\n"
     ]
    },
    {
     "data": {
      "text/html": [
       "<style type=\"text/css\">\n",
       "#T_3b3a3_row0_col1, #T_3b3a3_row1_col1, #T_3b3a3_row2_col1, #T_3b3a3_row3_col1, #T_3b3a3_row4_col1 {\n",
       "  background-color: dodgerblue;\n",
       "}\n",
       "</style>\n",
       "<table id=\"T_3b3a3\">\n",
       "  <thead>\n",
       "    <tr>\n",
       "      <th class=\"blank level0\" >&nbsp;</th>\n",
       "      <th id=\"T_3b3a3_level0_col0\" class=\"col_heading level0 col0\" >name</th>\n",
       "      <th id=\"T_3b3a3_level0_col1\" class=\"col_heading level0 col1\" >date</th>\n",
       "      <th id=\"T_3b3a3_level0_col2\" class=\"col_heading level0 col2\" >temp</th>\n",
       "      <th id=\"T_3b3a3_level0_col3\" class=\"col_heading level0 col3\" >feelslike</th>\n",
       "      <th id=\"T_3b3a3_level0_col4\" class=\"col_heading level0 col4\" >dew</th>\n",
       "      <th id=\"T_3b3a3_level0_col5\" class=\"col_heading level0 col5\" >humidity</th>\n",
       "      <th id=\"T_3b3a3_level0_col6\" class=\"col_heading level0 col6\" >precip</th>\n",
       "      <th id=\"T_3b3a3_level0_col7\" class=\"col_heading level0 col7\" >precipprob</th>\n",
       "      <th id=\"T_3b3a3_level0_col8\" class=\"col_heading level0 col8\" >preciptype</th>\n",
       "      <th id=\"T_3b3a3_level0_col9\" class=\"col_heading level0 col9\" >snow</th>\n",
       "      <th id=\"T_3b3a3_level0_col10\" class=\"col_heading level0 col10\" >snowdepth</th>\n",
       "      <th id=\"T_3b3a3_level0_col11\" class=\"col_heading level0 col11\" >windgust</th>\n",
       "      <th id=\"T_3b3a3_level0_col12\" class=\"col_heading level0 col12\" >windspeed</th>\n",
       "      <th id=\"T_3b3a3_level0_col13\" class=\"col_heading level0 col13\" >winddir</th>\n",
       "      <th id=\"T_3b3a3_level0_col14\" class=\"col_heading level0 col14\" >sealevelpressure</th>\n",
       "      <th id=\"T_3b3a3_level0_col15\" class=\"col_heading level0 col15\" >cloudcover</th>\n",
       "      <th id=\"T_3b3a3_level0_col16\" class=\"col_heading level0 col16\" >visibility</th>\n",
       "      <th id=\"T_3b3a3_level0_col17\" class=\"col_heading level0 col17\" >solarradiation</th>\n",
       "      <th id=\"T_3b3a3_level0_col18\" class=\"col_heading level0 col18\" >solarenergy</th>\n",
       "      <th id=\"T_3b3a3_level0_col19\" class=\"col_heading level0 col19\" >uvindex</th>\n",
       "      <th id=\"T_3b3a3_level0_col20\" class=\"col_heading level0 col20\" >severerisk</th>\n",
       "      <th id=\"T_3b3a3_level0_col21\" class=\"col_heading level0 col21\" >conditions</th>\n",
       "      <th id=\"T_3b3a3_level0_col22\" class=\"col_heading level0 col22\" >icon</th>\n",
       "      <th id=\"T_3b3a3_level0_col23\" class=\"col_heading level0 col23\" >stations</th>\n",
       "    </tr>\n",
       "  </thead>\n",
       "  <tbody>\n",
       "    <tr>\n",
       "      <th id=\"T_3b3a3_level0_row0\" class=\"row_heading level0 row0\" >0</th>\n",
       "      <td id=\"T_3b3a3_row0_col0\" class=\"data row0 col0\" >La Cage, 150 Sainte-Catherine O local 201C, Montréal, QC H5B 1B3, Canada</td>\n",
       "      <td id=\"T_3b3a3_row0_col1\" class=\"data row0 col1\" >2021-01-01 00:00:00</td>\n",
       "      <td id=\"T_3b3a3_row0_col2\" class=\"data row0 col2\" >-5.400000</td>\n",
       "      <td id=\"T_3b3a3_row0_col3\" class=\"data row0 col3\" >-5.400000</td>\n",
       "      <td id=\"T_3b3a3_row0_col4\" class=\"data row0 col4\" >-8.900000</td>\n",
       "      <td id=\"T_3b3a3_row0_col5\" class=\"data row0 col5\" >76.570000</td>\n",
       "      <td id=\"T_3b3a3_row0_col6\" class=\"data row0 col6\" >0.000000</td>\n",
       "      <td id=\"T_3b3a3_row0_col7\" class=\"data row0 col7\" >0.000000</td>\n",
       "      <td id=\"T_3b3a3_row0_col8\" class=\"data row0 col8\" >nan</td>\n",
       "      <td id=\"T_3b3a3_row0_col9\" class=\"data row0 col9\" >0.000000</td>\n",
       "      <td id=\"T_3b3a3_row0_col10\" class=\"data row0 col10\" >2.290000</td>\n",
       "      <td id=\"T_3b3a3_row0_col11\" class=\"data row0 col11\" >nan</td>\n",
       "      <td id=\"T_3b3a3_row0_col12\" class=\"data row0 col12\" >3.200000</td>\n",
       "      <td id=\"T_3b3a3_row0_col13\" class=\"data row0 col13\" >18.000000</td>\n",
       "      <td id=\"T_3b3a3_row0_col14\" class=\"data row0 col14\" >1030.400000</td>\n",
       "      <td id=\"T_3b3a3_row0_col15\" class=\"data row0 col15\" >0.000000</td>\n",
       "      <td id=\"T_3b3a3_row0_col16\" class=\"data row0 col16\" >19.800000</td>\n",
       "      <td id=\"T_3b3a3_row0_col17\" class=\"data row0 col17\" >0.000000</td>\n",
       "      <td id=\"T_3b3a3_row0_col18\" class=\"data row0 col18\" >0.000000</td>\n",
       "      <td id=\"T_3b3a3_row0_col19\" class=\"data row0 col19\" >0</td>\n",
       "      <td id=\"T_3b3a3_row0_col20\" class=\"data row0 col20\" >nan</td>\n",
       "      <td id=\"T_3b3a3_row0_col21\" class=\"data row0 col21\" >Clear</td>\n",
       "      <td id=\"T_3b3a3_row0_col22\" class=\"data row0 col22\" >clear-night</td>\n",
       "      <td id=\"T_3b3a3_row0_col23\" class=\"data row0 col23\" >71627094792,71371099999,CWIZ,71612099999,CWTA,71372099999</td>\n",
       "    </tr>\n",
       "    <tr>\n",
       "      <th id=\"T_3b3a3_level0_row1\" class=\"row_heading level0 row1\" >1</th>\n",
       "      <td id=\"T_3b3a3_row1_col0\" class=\"data row1 col0\" >La Cage, 150 Sainte-Catherine O local 201C, Montréal, QC H5B 1B3, Canada</td>\n",
       "      <td id=\"T_3b3a3_row1_col1\" class=\"data row1 col1\" >2021-01-01 01:00:00</td>\n",
       "      <td id=\"T_3b3a3_row1_col2\" class=\"data row1 col2\" >-5.200000</td>\n",
       "      <td id=\"T_3b3a3_row1_col3\" class=\"data row1 col3\" >-5.200000</td>\n",
       "      <td id=\"T_3b3a3_row1_col4\" class=\"data row1 col4\" >-8.900000</td>\n",
       "      <td id=\"T_3b3a3_row1_col5\" class=\"data row1 col5\" >75.240000</td>\n",
       "      <td id=\"T_3b3a3_row1_col6\" class=\"data row1 col6\" >0.000000</td>\n",
       "      <td id=\"T_3b3a3_row1_col7\" class=\"data row1 col7\" >0.000000</td>\n",
       "      <td id=\"T_3b3a3_row1_col8\" class=\"data row1 col8\" >nan</td>\n",
       "      <td id=\"T_3b3a3_row1_col9\" class=\"data row1 col9\" >0.000000</td>\n",
       "      <td id=\"T_3b3a3_row1_col10\" class=\"data row1 col10\" >2.270000</td>\n",
       "      <td id=\"T_3b3a3_row1_col11\" class=\"data row1 col11\" >nan</td>\n",
       "      <td id=\"T_3b3a3_row1_col12\" class=\"data row1 col12\" >2.800000</td>\n",
       "      <td id=\"T_3b3a3_row1_col13\" class=\"data row1 col13\" >218.000000</td>\n",
       "      <td id=\"T_3b3a3_row1_col14\" class=\"data row1 col14\" >1031.300000</td>\n",
       "      <td id=\"T_3b3a3_row1_col15\" class=\"data row1 col15\" >100.000000</td>\n",
       "      <td id=\"T_3b3a3_row1_col16\" class=\"data row1 col16\" >20.600000</td>\n",
       "      <td id=\"T_3b3a3_row1_col17\" class=\"data row1 col17\" >0.000000</td>\n",
       "      <td id=\"T_3b3a3_row1_col18\" class=\"data row1 col18\" >0.000000</td>\n",
       "      <td id=\"T_3b3a3_row1_col19\" class=\"data row1 col19\" >0</td>\n",
       "      <td id=\"T_3b3a3_row1_col20\" class=\"data row1 col20\" >nan</td>\n",
       "      <td id=\"T_3b3a3_row1_col21\" class=\"data row1 col21\" >Overcast</td>\n",
       "      <td id=\"T_3b3a3_row1_col22\" class=\"data row1 col22\" >cloudy</td>\n",
       "      <td id=\"T_3b3a3_row1_col23\" class=\"data row1 col23\" >71627094792,71371099999,CWIZ,71612099999,CWTA,71372099999</td>\n",
       "    </tr>\n",
       "    <tr>\n",
       "      <th id=\"T_3b3a3_level0_row2\" class=\"row_heading level0 row2\" >2</th>\n",
       "      <td id=\"T_3b3a3_row2_col0\" class=\"data row2 col0\" >La Cage, 150 Sainte-Catherine O local 201C, Montréal, QC H5B 1B3, Canada</td>\n",
       "      <td id=\"T_3b3a3_row2_col1\" class=\"data row2 col1\" >2021-01-01 02:00:00</td>\n",
       "      <td id=\"T_3b3a3_row2_col2\" class=\"data row2 col2\" >-4.600000</td>\n",
       "      <td id=\"T_3b3a3_row2_col3\" class=\"data row2 col3\" >-6.800000</td>\n",
       "      <td id=\"T_3b3a3_row2_col4\" class=\"data row2 col4\" >-8.500000</td>\n",
       "      <td id=\"T_3b3a3_row2_col5\" class=\"data row2 col5\" >73.840000</td>\n",
       "      <td id=\"T_3b3a3_row2_col6\" class=\"data row2 col6\" >0.000000</td>\n",
       "      <td id=\"T_3b3a3_row2_col7\" class=\"data row2 col7\" >0.000000</td>\n",
       "      <td id=\"T_3b3a3_row2_col8\" class=\"data row2 col8\" >nan</td>\n",
       "      <td id=\"T_3b3a3_row2_col9\" class=\"data row2 col9\" >0.000000</td>\n",
       "      <td id=\"T_3b3a3_row2_col10\" class=\"data row2 col10\" >2.260000</td>\n",
       "      <td id=\"T_3b3a3_row2_col11\" class=\"data row2 col11\" >nan</td>\n",
       "      <td id=\"T_3b3a3_row2_col12\" class=\"data row2 col12\" >5.100000</td>\n",
       "      <td id=\"T_3b3a3_row2_col13\" class=\"data row2 col13\" >24.000000</td>\n",
       "      <td id=\"T_3b3a3_row2_col14\" class=\"data row2 col14\" >1031.700000</td>\n",
       "      <td id=\"T_3b3a3_row2_col15\" class=\"data row2 col15\" >1.900000</td>\n",
       "      <td id=\"T_3b3a3_row2_col16\" class=\"data row2 col16\" >19.800000</td>\n",
       "      <td id=\"T_3b3a3_row2_col17\" class=\"data row2 col17\" >0.000000</td>\n",
       "      <td id=\"T_3b3a3_row2_col18\" class=\"data row2 col18\" >0.000000</td>\n",
       "      <td id=\"T_3b3a3_row2_col19\" class=\"data row2 col19\" >0</td>\n",
       "      <td id=\"T_3b3a3_row2_col20\" class=\"data row2 col20\" >nan</td>\n",
       "      <td id=\"T_3b3a3_row2_col21\" class=\"data row2 col21\" >Clear</td>\n",
       "      <td id=\"T_3b3a3_row2_col22\" class=\"data row2 col22\" >clear-night</td>\n",
       "      <td id=\"T_3b3a3_row2_col23\" class=\"data row2 col23\" >71627094792,71371099999,CWIZ,71612099999,CWTA,71372099999</td>\n",
       "    </tr>\n",
       "    <tr>\n",
       "      <th id=\"T_3b3a3_level0_row3\" class=\"row_heading level0 row3\" >3</th>\n",
       "      <td id=\"T_3b3a3_row3_col0\" class=\"data row3 col0\" >La Cage, 150 Sainte-Catherine O local 201C, Montréal, QC H5B 1B3, Canada</td>\n",
       "      <td id=\"T_3b3a3_row3_col1\" class=\"data row3 col1\" >2021-01-01 03:00:00</td>\n",
       "      <td id=\"T_3b3a3_row3_col2\" class=\"data row3 col2\" >-4.100000</td>\n",
       "      <td id=\"T_3b3a3_row3_col3\" class=\"data row3 col3\" >-4.100000</td>\n",
       "      <td id=\"T_3b3a3_row3_col4\" class=\"data row3 col4\" >-8.100000</td>\n",
       "      <td id=\"T_3b3a3_row3_col5\" class=\"data row3 col5\" >73.560000</td>\n",
       "      <td id=\"T_3b3a3_row3_col6\" class=\"data row3 col6\" >0.000000</td>\n",
       "      <td id=\"T_3b3a3_row3_col7\" class=\"data row3 col7\" >0.000000</td>\n",
       "      <td id=\"T_3b3a3_row3_col8\" class=\"data row3 col8\" >nan</td>\n",
       "      <td id=\"T_3b3a3_row3_col9\" class=\"data row3 col9\" >0.000000</td>\n",
       "      <td id=\"T_3b3a3_row3_col10\" class=\"data row3 col10\" >2.250000</td>\n",
       "      <td id=\"T_3b3a3_row3_col11\" class=\"data row3 col11\" >nan</td>\n",
       "      <td id=\"T_3b3a3_row3_col12\" class=\"data row3 col12\" >4.200000</td>\n",
       "      <td id=\"T_3b3a3_row3_col13\" class=\"data row3 col13\" >321.000000</td>\n",
       "      <td id=\"T_3b3a3_row3_col14\" class=\"data row3 col14\" >1032.600000</td>\n",
       "      <td id=\"T_3b3a3_row3_col15\" class=\"data row3 col15\" >3.400000</td>\n",
       "      <td id=\"T_3b3a3_row3_col16\" class=\"data row3 col16\" >19.800000</td>\n",
       "      <td id=\"T_3b3a3_row3_col17\" class=\"data row3 col17\" >0.000000</td>\n",
       "      <td id=\"T_3b3a3_row3_col18\" class=\"data row3 col18\" >0.000000</td>\n",
       "      <td id=\"T_3b3a3_row3_col19\" class=\"data row3 col19\" >0</td>\n",
       "      <td id=\"T_3b3a3_row3_col20\" class=\"data row3 col20\" >nan</td>\n",
       "      <td id=\"T_3b3a3_row3_col21\" class=\"data row3 col21\" >Clear</td>\n",
       "      <td id=\"T_3b3a3_row3_col22\" class=\"data row3 col22\" >clear-night</td>\n",
       "      <td id=\"T_3b3a3_row3_col23\" class=\"data row3 col23\" >71627094792,71371099999,CWIZ,71612099999,CWTA,71372099999</td>\n",
       "    </tr>\n",
       "    <tr>\n",
       "      <th id=\"T_3b3a3_level0_row4\" class=\"row_heading level0 row4\" >4</th>\n",
       "      <td id=\"T_3b3a3_row4_col0\" class=\"data row4 col0\" >La Cage, 150 Sainte-Catherine O local 201C, Montréal, QC H5B 1B3, Canada</td>\n",
       "      <td id=\"T_3b3a3_row4_col1\" class=\"data row4 col1\" >2021-01-01 04:00:00</td>\n",
       "      <td id=\"T_3b3a3_row4_col2\" class=\"data row4 col2\" >-3.700000</td>\n",
       "      <td id=\"T_3b3a3_row4_col3\" class=\"data row4 col3\" >-3.700000</td>\n",
       "      <td id=\"T_3b3a3_row4_col4\" class=\"data row4 col4\" >-8.200000</td>\n",
       "      <td id=\"T_3b3a3_row4_col5\" class=\"data row4 col5\" >70.690000</td>\n",
       "      <td id=\"T_3b3a3_row4_col6\" class=\"data row4 col6\" >0.000000</td>\n",
       "      <td id=\"T_3b3a3_row4_col7\" class=\"data row4 col7\" >0.000000</td>\n",
       "      <td id=\"T_3b3a3_row4_col8\" class=\"data row4 col8\" >nan</td>\n",
       "      <td id=\"T_3b3a3_row4_col9\" class=\"data row4 col9\" >0.000000</td>\n",
       "      <td id=\"T_3b3a3_row4_col10\" class=\"data row4 col10\" >2.240000</td>\n",
       "      <td id=\"T_3b3a3_row4_col11\" class=\"data row4 col11\" >nan</td>\n",
       "      <td id=\"T_3b3a3_row4_col12\" class=\"data row4 col12\" >3.700000</td>\n",
       "      <td id=\"T_3b3a3_row4_col13\" class=\"data row4 col13\" >296.000000</td>\n",
       "      <td id=\"T_3b3a3_row4_col14\" class=\"data row4 col14\" >1032.600000</td>\n",
       "      <td id=\"T_3b3a3_row4_col15\" class=\"data row4 col15\" >100.000000</td>\n",
       "      <td id=\"T_3b3a3_row4_col16\" class=\"data row4 col16\" >20.600000</td>\n",
       "      <td id=\"T_3b3a3_row4_col17\" class=\"data row4 col17\" >0.000000</td>\n",
       "      <td id=\"T_3b3a3_row4_col18\" class=\"data row4 col18\" >0.000000</td>\n",
       "      <td id=\"T_3b3a3_row4_col19\" class=\"data row4 col19\" >0</td>\n",
       "      <td id=\"T_3b3a3_row4_col20\" class=\"data row4 col20\" >nan</td>\n",
       "      <td id=\"T_3b3a3_row4_col21\" class=\"data row4 col21\" >Overcast</td>\n",
       "      <td id=\"T_3b3a3_row4_col22\" class=\"data row4 col22\" >cloudy</td>\n",
       "      <td id=\"T_3b3a3_row4_col23\" class=\"data row4 col23\" >71627094792,71371099999,CWIZ,71612099999,CWTA,71372099999</td>\n",
       "    </tr>\n",
       "  </tbody>\n",
       "</table>\n"
      ],
      "text/plain": [
       "<pandas.io.formats.style.Styler at 0x7fa261703ee0>"
      ]
     },
     "metadata": {},
     "output_type": "display_data"
    },
    {
     "name": "stdout",
     "output_type": "stream",
     "text": [
      "\n"
     ]
    }
   ],
   "source": [
    "visualizeEveryHead(DFS)"
   ]
  },
  {
   "cell_type": "code",
   "execution_count": null,
   "metadata": {
    "id": "VnraY82CNFMd"
   },
   "outputs": [],
   "source": []
  }
 ],
 "metadata": {
  "colab": {
   "provenance": []
  },
  "kernelspec": {
   "display_name": "Python 3 (ipykernel)",
   "language": "python",
   "name": "python3"
  },
  "language_info": {
   "codemirror_mode": {
    "name": "ipython",
    "version": 3
   },
   "file_extension": ".py",
   "mimetype": "text/x-python",
   "name": "python",
   "nbconvert_exporter": "python",
   "pygments_lexer": "ipython3",
   "version": "3.9.7"
  }
 },
 "nbformat": 4,
 "nbformat_minor": 1
}
