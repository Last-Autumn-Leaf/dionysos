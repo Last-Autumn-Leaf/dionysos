{
 "cells": [
  {
   "cell_type": "markdown",
   "id": "d94bac4f",
   "metadata": {},
   "source": [
    "# Prévision des ventes d'un restaurant\n",
    "\n",
    "Ce notebook présente un exemple de prévision des ventes d'un restaurant à partir de données historiques.\n",
    "\n",
    "__Date__ : 05/06/2023\n",
    "\n",
    "__Auteur__ : Ilyas Baktache, Carl-André Gassette\n"
   ]
  },
  {
   "cell_type": "markdown",
   "id": "d898be3d",
   "metadata": {},
   "source": [
    "Les modèles envisagés sont:\n",
    "* RNN\n",
    "    * LSTM\n",
    "    * GRU\n",
    "* XgBoost\n",
    "* Prophet"
   ]
  },
  {
   "cell_type": "code",
   "execution_count": 1,
   "id": "f9ba7697",
   "metadata": {
    "ExecuteTime": {
     "end_time": "2023-07-20T02:00:08.684525Z",
     "start_time": "2023-07-20T02:00:05.979607Z"
    }
   },
   "outputs": [],
   "source": [
    "# On importe notre librairie de pré-traitement\n",
    "import os\n",
    "import sys\n",
    "sys.path.append(os.path.dirname(os.path.dirname( os.path.abspath('dionysos'))))\n",
    "\n",
    "# Pre-processing library\n",
    "from prevision.pre_processing.pre_process import *\n",
    "# model library\n",
    "from prevision.model.xgboost_model import *\n",
    "from prevision.model.utils_model import *\n",
    "from prevision.model.rnn_model import *\n",
    "\n",
    "# Data manipulation library\n",
    "import pandas as pd\n",
    "import numpy as np\n",
    "import matplotlib.pyplot as plt\n",
    "\n",
    "import warnings\n",
    "import statsmodels\n",
    "# Filtrer les avertissements spécifiques à Statsmodels\n",
    "warnings.filterwarnings(\"ignore\", module=statsmodels.__name__)\n",
    "# Ignorer les avertissements\n",
    "warnings.filterwarnings(\"ignore\", message=\"An unsupported index was provided and will be ignored when e.g. forecasting\")\n"
   ]
  },
  {
   "cell_type": "markdown",
   "id": "51979c97",
   "metadata": {},
   "source": [
    "# Data\n",
    "\n",
    "Le choix des données est très important pour la qualité de notre modèle. Nous avons choisi d'utiliser les données suivantes:\n",
    "\n",
    "* Les données du nombre de spectateurs attendus pour les événements autour de la cage aux sports. Ces données peuvent fournir des informations sur l'affluence et l'intérêt des gens pour les événements, ce qui peut avoir un impact sur les ventes. Les types d'évenements comportent:\n",
    "    * Les évenements sportifs\n",
    "    * Les conférences\n",
    "    * Les expositions\n",
    "    * Les concerts\n",
    "    * Les festivals\n",
    "    * Les performances artistiques\n",
    "    * Les reunions communautaires \n",
    "\n",
    "* Les données de la météo, telles que la température, la précipitation et la neige. La météo peut jouer un rôle important dans les comportements d'achat des consommateurs. Par exemple, les jours de pluie ou de neige peuvent influencer les décisions des gens de se rendre aux événements ou de consommer des produits spécifiques.\n",
    "* Le jour de la semaine : Nous pouvons ajouter une variable binaire ou utiliser l'encodage one-hot pour représenter le jour de la semaine (par exemple, lundi, mardi, etc.). Cela peut permettre de capturer les variations saisonnières ou les tendances hebdomadaires dans nos données. Par exemple, les ventes peuvent être plus élevées le week-end par rapport aux jours de semaine.\n",
    "* La saison ou le mois : L'inclusion de cette variable peut aider le modèle à capturer les tendances saisonnières et les variations de comportement des ventes. Par exemple, les ventes peuvent augmenter pendant les mois d'été en raison des vacances et des activités estivales.\n",
    "* Les vacances scolaires et les jours fériés : Nous ajoutons une variable binaire pour indiquer si le jour correspond à une période de vacances ou non. Les comportements d'achat peuvent varier pendant ces périodes, et il est important de les prendre en compte pour obtenir des prédictions précises.\n",
    "\n",
    "En incluant ces différentes variables, nous espérons capturer les facteurs clés qui influencent les ventes et améliorer la précision de notre modèle. Cependant, il est important de noter que l'inclusion de trop de variables peut également entraîner un surajustement (overfitting) du modèle, il est donc nécessaire de trouver un équilibre et d'évaluer l'impact de chaque variable sur les performances du modèle.\n",
    "\n",
    "On crée ensuite un dictionnaire. On note alors:\n",
    "\n",
    "* X les variables d'entrée de notre modèle\n",
    "* y la variable de sortie de notre modèle\n"
   ]
  },
  {
   "cell_type": "code",
   "execution_count": 2,
   "id": "84dd2c94",
   "metadata": {},
   "outputs": [
    {
     "name": "stdout",
     "output_type": "stream",
     "text": [
      "On récupere les features et la target avec respectivement des dimensions (100, 24) et (100,)\n",
      "\n",
      "     attendance_concerts  attendance_conferences  attendance_expos  \\\n",
      "164                 4647                       0              5217   \n",
      "165                 3527                       0              5217   \n",
      "166                 2208                       0                 0   \n",
      "167                  576                       0                 0   \n",
      "168                  576                       0                 0   \n",
      "\n",
      "     attendance_festivals  attendance_performing_arts  attendance_sports  \\\n",
      "164                   118                           0                  0   \n",
      "165                    98                           0                  0   \n",
      "166                    78                           0                  0   \n",
      "167                     0                           0                  0   \n",
      "168                     0                           0                  0   \n",
      "\n",
      "     prevision  apparent_temperature_max  apparent_temperature_min  sunset  \\\n",
      "164      20000                      -5.7                     -11.9   18.23   \n",
      "165      20000                      -1.4                      -9.0   18.27   \n",
      "166       6000                      -0.0                     -10.6   18.28   \n",
      "167      13000                       0.6                      -6.7   18.32   \n",
      "168      16000                       3.4                      -6.6   18.33   \n",
      "\n",
      "     ...  precipitation_hours  day_0  day_1  day_2  day_3  day_4  day_5  \\\n",
      "164  ...                  6.0  False  False  False  False  False   True   \n",
      "165  ...                  0.0  False  False  False  False  False  False   \n",
      "166  ...                  0.0   True  False  False  False  False  False   \n",
      "167  ...                  0.0  False   True  False  False  False  False   \n",
      "168  ...                  4.0  False  False   True  False  False  False   \n",
      "\n",
      "     day_6  vacance  ferie  \n",
      "164  False        0      0  \n",
      "165   True        0      0  \n",
      "166  False        0      0  \n",
      "167  False        0      0  \n",
      "168  False        0      0  \n",
      "\n",
      "[5 rows x 24 columns]\n",
      "\n",
      "\n",
      "164    26495.04\n",
      "165    21071.08\n",
      "166     8923.17\n",
      "167    14611.07\n",
      "168    18624.29\n",
      "Name: vente, dtype: float64\n"
     ]
    }
   ],
   "source": [
    "# Date de début et de fin de la saison\n",
    "start_date = \"2023-03-08\"\n",
    "end_date = \"2023-06-05\"\n",
    "\n",
    "# chemin_fichier_csv = os.path.join(os.path.dirname(os.path.dirname(os.path.abspath('dionysos'))),'prevision', 'pre_processing', 'data')\n",
    "features=[x for x in ALL_FEATURES if not x.startswith(\"vente_\")]\n",
    "# X,y = pre_process.get_data(start_date,end_date,big_chemin = chemin_fichier_csv + '/')\n",
    "X,y = pre_process.get_data(features)\n",
    "\n",
    "# on affiche les 5 premières lignes de notre dataset\n",
    "print(\"On récupere les features et la target avec respectivement des dimensions {} et {}\\n\".format(X.shape,y.shape))\n",
    "print(X.head())\n",
    "print(\"\\n\")\n",
    "# on affiche les 5 premières lignes de notre target\n",
    "print(y.head())"
   ]
  },
  {
   "cell_type": "markdown",
   "id": "17351151",
   "metadata": {},
   "source": [
    "On remarque que les prévisions sont dans les valeurs X mais elle ne seront pas prise en compte par la suite dans notre modèle. On split ensuite nos données en données d'entrainement et de test en récuperant les previsions de la cage actuelle qui seront utilisées pour tester notre modèle."
   ]
  },
  {
   "cell_type": "code",
   "execution_count": 3,
   "id": "47fb9148",
   "metadata": {},
   "outputs": [],
   "source": [
    "X_train, X_test, y_train, y_test, prevision_cage = pre_process.split(X, y,random_state = 0)"
   ]
  },
  {
   "cell_type": "markdown",
   "id": "67cb75f2",
   "metadata": {},
   "source": [
    "# Modèle\n",
    "\n",
    "## Modèle Xg Boost \n",
    "\n",
    "On utilise un modèle xg Boost pour prédire les ventes de la cage aux sports. On utilise une cross validation (Random search) pour trouver les meilleurs hyper-paramètres du modèle. On utilise ensuite ces hyper-paramètres pour entrainer notre modèle sur les données d'entrainement. On affiche ensuite les résultats de notre modèle sur les données de test.\n",
    "\n",
    "### Hyper-paramètres\n",
    "\n",
    "\n"
   ]
  },
  {
   "cell_type": "code",
   "execution_count": 7,
   "id": "a8ec2737",
   "metadata": {},
   "outputs": [
    {
     "name": "stdout",
     "output_type": "stream",
     "text": [
      "[20/07/2023 09:46:48] Recherche des meilleurs hyperparamètres\n"
     ]
    },
    {
     "data": {
      "image/png": "[encoded data removed]",
      "text/plain": [
       "<Figure size 1200x600 with 1 Axes>"
      ]
     },
     "metadata": {},
     "output_type": "display_data"
    }
   ],
   "source": [
    "print(\"[\" + str(datetime.now().strftime(\"%d/%m/%Y %H:%M:%S\")) + \"] Recherche des meilleurs hyperparamètres\")\n",
    "best_params, best_model, rmse, mae = hyperparametres.random(X_train, y_train, X_test, y_test,plot = True,param = 'MAE')"
   ]
  },
  {
   "cell_type": "markdown",
   "id": "aecbc8c2",
   "metadata": {},
   "source": [
    "### Impacte des features\n",
    "\n",
    "On affiche l'impacte des features sur les prédictions de notre modèle."
   ]
  },
  {
   "cell_type": "code",
   "execution_count": null,
   "id": "09bf8a7a",
   "metadata": {},
   "outputs": [],
   "source": [
    "utils_model.feature_importance(best_model,X_train)"
   ]
  },
  {
   "cell_type": "markdown",
   "id": "3dd3014a",
   "metadata": {},
   "source": [
    "On peut voir que la feature jour est la plus importante dans notre modèle. Cela s'explique par le fait que les ventes sont très dépendantes du jour de la semaine. Ensuite les features de la météo sont aussi importantes dans notre modèle. Cela s'explique par le fait que les ventes sont très dépendantes de la météo. Cependant, la feature de l'attendance est relativement inutile. On pourrait croire que les ventes sont très dépendantes de l'attendance des évenements autours de la cage aux sports. On décide de garder cette feature  pour le moment car elle pourrait être utile pour prédire les ventes de la cage aux sports lors d'évenements spéciaux avec plus de données%."
   ]
  },
  {
   "cell_type": "markdown",
   "id": "3eab2511",
   "metadata": {},
   "source": [
    "### Comparaison avec les prévisions de planifico "
   ]
  },
  {
   "cell_type": "markdown",
   "id": "4af6d97f",
   "metadata": {},
   "source": [
    "On compare les prévisions de notre modèle avec les prévisions de planifico sur deux types d'erreur:\n",
    "\n",
    "* Mean Squared Error (MSE) : Le MSE est une mesure de la moyenne des carrés des différences entre les valeurs prédites et les valeurs réelles. Il calcule la moyenne des écarts quadratiques et pénalise davantage les écarts importants entre les valeurs. Le MSE est utile lorsque les erreurs de prédiction plus importantes doivent être plus fortement pénalisées. Une valeur de MSE plus petite indique une meilleure performance du modèle.\n",
    "\n",
    "* Mean Absolute Error (MAE) : Le MAE est une mesure de la moyenne des valeurs absolues des différences entre les valeurs prédites et les valeurs réelles. Il calcule la moyenne des écarts absolus et ne pénalise pas autant les erreurs importantes. Le MAE est utile lorsque les erreurs de prédiction doivent être considérées de manière égale, quelle que soit leur magnitude. Une valeur de MAE plus petite indique une meilleure performance du modèle."
   ]
  },
  {
   "cell_type": "code",
   "execution_count": null,
   "id": "704d2c3d",
   "metadata": {},
   "outputs": [],
   "source": [
    "erreur_model,erreur_cage = utils_model.compare2planifico(best_model,X_test,y_test,prevision_cage,plot = True)"
   ]
  },
  {
   "cell_type": "markdown",
   "id": "96cebc55",
   "metadata": {},
   "source": [
    "On peut voir que notre modèle est plus performant que les prévisions de planifico par rapoort au MES ce qui montre que notre présente moins d'erreur importante que les prévisions de planifico. De meme, notre modèle est legerement plus performant que les prévisions de planifico par rapport au MAE ce qui montre que notre modèle présente un peu moins d'erreur en moyenne que les prévisions de planifico. CE faible écart s'explique nottament par le manque de données. En effet, notre modèle est entrainé sur 90 jours de données alors que les prévisions de planifico sont entrainées sur plusieurs années de données. On peut donc s'attendre à ce que notre modèle soit encore mieux performant que les prévisions de planifico."
   ]
  },
  {
   "cell_type": "code",
   "execution_count": 6,
   "id": "c5c8e5dc",
   "metadata": {},
   "outputs": [
    {
     "name": "stderr",
     "output_type": "stream",
     "text": [
      "/var/folders/rr/qtshp72d7ls4_6n28t30hf8c0000gn/T/ipykernel_72580/296467145.py:8: GradioDeprecationWarning: Usage of gradio.inputs is deprecated, and will not be supported in the future, please import your component from gradio.components\n",
      "  inputs=[gr.inputs.Number() for _ in range(n)],\n",
      "/var/folders/rr/qtshp72d7ls4_6n28t30hf8c0000gn/T/ipykernel_72580/296467145.py:8: GradioDeprecationWarning: `optional` parameter is deprecated, and it has no effect\n",
      "  inputs=[gr.inputs.Number() for _ in range(n)],\n",
      "/Users/carlos/PycharmProjects/dionysos/venv/lib/python3.9/site-packages/gradio/utils.py:839: UserWarning: Expected 1 arguments for function <function predict_model at 0x7fd2cc098430>, received 24.\n",
      "  warnings.warn(\n",
      "/Users/carlos/PycharmProjects/dionysos/venv/lib/python3.9/site-packages/gradio/utils.py:847: UserWarning: Expected maximum 1 arguments for function <function predict_model at 0x7fd2cc098430>, received 24.\n",
      "  warnings.warn(\n"
     ]
    },
    {
     "name": "stdout",
     "output_type": "stream",
     "text": [
      "Running on local URL:  http://127.0.0.1:7861\n",
      "\n",
      "To create a public link, set `share=True` in `launch()`.\n"
     ]
    },
    {
     "data": {
      "text/html": [
       "<div><iframe src=\"http://127.0.0.1:7861/\" width=\"100%\" height=\"500\" allow=\"autoplay; camera; microphone; clipboard-read; clipboard-write;\" frameborder=\"0\" allowfullscreen></iframe></div>"
      ],
      "text/plain": [
       "<IPython.core.display.HTML object>"
      ]
     },
     "metadata": {},
     "output_type": "display_data"
    },
    {
     "data": {
      "text/plain": []
     },
     "execution_count": 6,
     "metadata": {},
     "output_type": "execute_result"
    }
   ],
   "source": [
    "import gradio as gr\n",
    "def predict_model(inputs):\n",
    "    inputs = np.array(inputs).reshape(1, -1)\n",
    "    prediction = best_model.predict(inputs)\n",
    "    return prediction[0]\n",
    "n=24\n",
    "iface = gr.Interface(fn=predict_model, \n",
    "                     inputs=[gr.inputs.Number() for _ in range(n)], \n",
    "                     outputs=\"number\")\n",
    "\n",
    "iface.launch()"
   ]
  },
  {
   "cell_type": "markdown",
   "id": "bc49401c",
   "metadata": {},
   "source": [
    "## Modèle RNN\n",
    "\n",
    "On utilise un modèle RNN pour prédire les ventes de la cage aux sports. On utilise une cross validation (Random search) pour trouver les meilleurs hyper-paramètres du modèle. On utilise ensuite ces hyper-paramètres pour entrainer notre modèle sur les données d'entrainement. On affiche ensuite les résultats de notre modèle sur les données de test.\n",
    "\n",
    "### Hyper-paramètres\n"
   ]
  },
  {
   "cell_type": "code",
   "execution_count": null,
   "id": "c5a5568e",
   "metadata": {},
   "outputs": [],
   "source": [
    "# Initialisation des hyperparamètres\n",
    "parameters = {\n",
    "        \"input_sequence_length\": 7,\n",
    "        \"output_sequence_length\": 2,\n",
    "        \"model_type\" : \"LSTM\",\n",
    "        \"hidden_size\": 124,\n",
    "        \"num_layers\": 32,\n",
    "        \"output_size\": 1,\n",
    "        \"batch_size\": 32,\n",
    "        \"epochs\": 100,\n",
    "        \"learning_rate\": 1,\n",
    "        'dataset_split': 0.7,\n",
    "        'optimizer':'SGD',\n",
    "        'momentum' :0.9,\n",
    "        'weight_decay':1e-5,\n",
    "        'lossFunction':'SMOOTHL1'\n",
    "    }\n",
    "options = modele_rnn.Options(**parameters)\n",
    "X, y = pre_process.get_data(start_date, end_date)\n",
    "rnn_model = modele_rnn(X, y, options=options)\n",
    "\n",
    "# Entraînement du modèle\n",
    "model = rnn_model.train(plot=True)\n",
    "\n"
   ]
  },
  {
   "cell_type": "markdown",
   "id": "9b4f8317",
   "metadata": {},
   "source": [
    "## Modèle ARIMA\n",
    "\n",
    "On utilise un modèle LSTM pour prédire les ventes de la cage aux sports. On utilise une cross validation (Random search) pour trouver les meilleurs hyper-paramètres du modèle. On utilise ensuite ces hyper-paramètres pour entrainer notre modèle sur les données d'entrainement. On affiche ensuite les résultats de notre modèle sur les données de test.\n",
    "\n",
    "Pros : \n",
    "* Good for short-term forecasting\n",
    "* Only needs historical data\n",
    "* Models non-stationary data\n",
    "\n",
    "Cons\n",
    "* Not built for long-term forecasting\n",
    "* Poor at predicting turning points\n",
    "* Computationally expensive\n",
    "* Parameters are subjective\n",
    "\n",
    "### Hyper-paramètres"
   ]
  },
  {
   "cell_type": "code",
   "execution_count": null,
   "id": "0138e49e",
   "metadata": {},
   "outputs": [],
   "source": [
    "from statsmodels.tsa.arima.model import ARIMA\n",
    "\n",
    "def random_search_arima(y_train,y_test, p_range, q_range, r_range, num_iterations):\n",
    "    best_rmse = np.inf\n",
    "\n",
    "    for _ in range(num_iterations):\n",
    "        p = np.random.choice(p_range)\n",
    "        q = np.random.choice(q_range)\n",
    "        r = np.random.choice(r_range)\n",
    "\n",
    "        try:\n",
    "            model = ARIMA(y_train, order=(p, q, r))\n",
    "            result = model.fit()\n",
    "            predictions = result.predict(start=len(y_train), end=len(y_train)+len(y_test)-1)\n",
    "            rmse = mean_squared_error(y_test, predictions)\n",
    "\n",
    "            if rmse < best_rmse:\n",
    "                best_rmse = rmse\n",
    "                best_params = {'p': p ,\n",
    "                             'q': q,\n",
    "                             'r': r }\n",
    "\n",
    "        except:\n",
    "            continue\n",
    "    \n",
    "    print(f\"Best RMSE: {np.sqrt(best_rmse)}\")\n",
    "    print(f\"Best parameters: {best_params}\")\n",
    "    return best_params"
   ]
  },
  {
   "cell_type": "code",
   "execution_count": null,
   "id": "b772fa2a",
   "metadata": {},
   "outputs": [],
   "source": [
    "# Définition des plages de valeurs pour p, q et r\n",
    "p_range = range(0, 100)\n",
    "q_range = range(0, 100)\n",
    "r_range = range(0, 100)\n",
    "\n",
    "# Recherche aléatoire des paramètres optimaux\n",
    "best_param = random_search_arima(y_train,y_test, p_range, q_range, r_range, num_iterations=100)"
   ]
  },
  {
   "cell_type": "markdown",
   "id": "67565c9b",
   "metadata": {},
   "source": [
    "### Comparaison du modèle"
   ]
  },
  {
   "cell_type": "code",
   "execution_count": null,
   "id": "a485ff10",
   "metadata": {},
   "outputs": [],
   "source": [
    "# Créer et entraîner le modèle ARIMA\n",
    "model = ARIMA(y_train, order=(best_param['p'], best_param['q'], best_param['r'] )) # Remplacer p, d, q par les ordres appropriés\n",
    "model_fit = model.fit()\n",
    "\n",
    "#Effectuer la prédiction pour le dernier point de données\n",
    "predictions = model_fit.predict(start=len(y_train), end=len(y_train)+len(y_test)-1)\n",
    "\n",
    "predictions = list(predictions)\n",
    "y_test = list(y_test)\n",
    "\n",
    "plt.figure(figsize=(15, 5))\n",
    "plt.plot(y_test, label='Valeurs réelles')\n",
    "plt.plot(predictions, color='red', label='Prévisions')\n",
    "plt.plot(prevision_cage, color='green', label='Prévisions cage')\n",
    "plt.title('Prévisions ARIMA')\n",
    "plt.legend()\n",
    "plt.show()\n"
   ]
  },
  {
   "cell_type": "markdown",
   "id": "1b2cb153",
   "metadata": {},
   "source": [
    "## Prophet\n",
    "\n",
    "On utilise un modèle Prophet pour prédire les ventes de la cage aux sports. On utilise une cross validation (Random search) pour trouver les meilleurs hyper-paramètres du modèle. On utilise ensuite ces hyper-paramètres pour entrainer notre modèle sur les données d'entrainement. On affiche ensuite les résultats de notre modèle sur les données de test.\n",
    "\n",
    "Pros :\n",
    "* Easy to use\n",
    "* Fast to train\n",
    "* Built-in holidays\n",
    "* Built-in changepoints\n",
    "* Built-in trend changes\n",
    "* Built-in seasonality\n",
    "* Built-in outliers\n",
    "* Built-in cross-validation\n",
    "* Built-in uncertainty estimation\n",
    "* Built-in plotting\n",
    "\n",
    "Cons :\n",
    "* Not built for long-term forecasting\n",
    "* Poor at predicting turning points\n",
    "* Computationally expensive\n",
    "* Parameters are subjective\n",
    "\n",
    "\n",
    "### Hyper-paramètres\n"
   ]
  },
  {
   "cell_type": "code",
   "execution_count": null,
   "id": "690e3b83",
   "metadata": {},
   "outputs": [],
   "source": [
    "from prophet import Prophet\n",
    "\n",
    "# Date de début et de fin de la saison\n",
    "start_date = \"2023-03-08\"\n",
    "end_date = \"2023-06-05\"\n",
    "\n",
    "chemin_fichier_csv = os.path.join(os.path.dirname(os.path.dirname(os.path.abspath('dionysos'))),'prevision', 'pre_processing', 'data')\n",
    "X,y,df = pre_process.get_data(start_date,end_date,big_chemin = chemin_fichier_csv + '/')\n",
    "\n",
    "# Création du modèle Prophet\n",
    "model = Prophet(yearly_seasonality=True,daily_seasonality=True)\n",
    "\n",
    "df = df.rename(columns={'date': 'ds', 'vente': 'y'})  # Renommer les colonnes pour correspondre à Prophet\n",
    "# Préparation des données d'entraînement\n",
    "train_data = df[['ds', 'y']]  # Assurez-vous que les colonnes de dates et de valeurs sont nommées 'ds' et 'y'\n",
    "model.fit(train_data)\n",
    "\n",
    "# Préparation des données de prédiction\n",
    "future_dates = model.make_future_dataframe(periods=30)  # Spécifiez le nombre de périodes à prédire\n",
    "forecast = model.predict(future_dates)\n",
    "\n",
    "# Affichage des résultats de la prédiction\n",
    "model.plot(forecast)\n",
    "model.plot_components(forecast)"
   ]
  }
 ],
 "metadata": {
  "kernelspec": {
   "display_name": "Python 3 (ipykernel)",
   "language": "python",
   "name": "python3"
  },
  "language_info": {
   "codemirror_mode": {
    "name": "ipython",
    "version": 3
   },
   "file_extension": ".py",
   "mimetype": "text/x-python",
   "name": "python",
   "nbconvert_exporter": "python",
   "pygments_lexer": "ipython3",
   "version": "3.9.7"
  }
 },
 "nbformat": 4,
 "nbformat_minor": 5
}
